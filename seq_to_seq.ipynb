{
 "cells": [
  {
   "cell_type": "code",
   "execution_count": 47,
   "metadata": {},
   "outputs": [],
   "source": [
    "import numpy as np\n",
    "import pickle\n",
    "import torch\n",
    "import torch.nn as nn\n",
    "from torch.autograd import Variable\n",
    "from torch.nn.utils.rnn import pack_padded_sequence, pad_packed_sequence\n",
    "import torch.backends.cudnn as cudnn"
   ]
  },
  {
   "cell_type": "code",
   "execution_count": 2,
   "metadata": {},
   "outputs": [],
   "source": [
    "# 2 million word vectors trained on Common Crawl (600B tokens)\n",
    "embedding_file = open('processed_data/crawl-300d-2M.vec')"
   ]
  },
  {
   "cell_type": "code",
   "execution_count": 3,
   "metadata": {},
   "outputs": [],
   "source": [
    "# The first line of the file contains the number of words in the vocabulary and the size of the vectors. \n",
    "# Each line contains a word followed by its vectors, like in the default fastText text format. \n",
    "# Each value is space separated.\n",
    "# Words are ordered by descending frequency.\n",
    "meta = embedding_file.readline()\n",
    "num_words = int(meta.split()[0])\n",
    "num_dims = int(meta.split()[1])"
   ]
  },
  {
   "cell_type": "code",
   "execution_count": 4,
   "metadata": {},
   "outputs": [
    {
     "name": "stdout",
     "output_type": "stream",
     "text": [
      "Total words: 1999999\n",
      "Number of dimensions: 300\n"
     ]
    }
   ],
   "source": [
    "# Some 'words' are not picked up by split(). Ignoring them.\n",
    "# dictionary -> word : index\n",
    "# reverse_dictionary -> index : word\n",
    "dictionary = dict()\n",
    "# To store embeddings for each word\n",
    "embeddings = np.zeros((num_words, num_dims))\n",
    "i = 0\n",
    "\n",
    "# start of sequence token\n",
    "dictionary['PAD_token'] = len(dictionary)\n",
    "embeddings[i] = np.random.rand(num_dims)\n",
    "i += 1\n",
    "\n",
    "# start of sequence token\n",
    "dictionary['Start_of_Sequence'] = len(dictionary)\n",
    "embeddings[i] = np.random.rand(num_dims)\n",
    "i += 1\n",
    "\n",
    "# end of sequence token\n",
    "dictionary['End_of_Sequence'] = len(dictionary)\n",
    "embeddings[i] = np.random.rand(num_dims)\n",
    "i += 1\n",
    "\n",
    "# unkown word token\n",
    "dictionary['UNK_token'] = len(dictionary)\n",
    "embeddings[i] = np.random.rand(num_dims)\n",
    "i += 1\n",
    "\n",
    "# Skip words not separated by split()\n",
    "for line in embedding_file:\n",
    "    items = line.split()\n",
    "    if len(items) == (num_dims + 1):\n",
    "        dictionary[items[0]] = len(dictionary)\n",
    "        embeddings[i] = np.asarray([float(value) for value in items[1:]], dtype=np.float64)\n",
    "        i += 1\n",
    "reverse_dictionary = dict(zip(dictionary.values(), dictionary.keys()))\n",
    "max_vocab = len(dictionary)\n",
    "embeddings = embeddings[:max_vocab]\n",
    "embedding_file.close()\n",
    "\n",
    "print(\"Total words: %d\" % max_vocab)\n",
    "print(\"Number of dimensions: %d\" % num_dims)"
   ]
  },
  {
   "cell_type": "code",
   "execution_count": 5,
   "metadata": {},
   "outputs": [
    {
     "name": "stdout",
     "output_type": "stream",
     "text": [
      "Input vocabulary size: 40000\n",
      "Output vocabulary size: 40000\n"
     ]
    }
   ],
   "source": [
    "input_vocab_size = 40000\n",
    "output_vocab_size = 40000\n",
    "# Input words and embeddings\n",
    "input_dictionary = dict()\n",
    "input_reverse_dictionary = dict()\n",
    "input_embeddings = np.zeros((input_vocab_size, num_dims))\n",
    "# Output words and embeddings\n",
    "output_dictionary = dict()\n",
    "output_reverse_dictionary = dict()\n",
    "output_embeddings = np.zeros((output_vocab_size, num_dims))\n",
    "# Extract input vocabulary\n",
    "for i in range(input_vocab_size):\n",
    "    word = reverse_dictionary[i]\n",
    "    input_dictionary[word] = i\n",
    "    input_reverse_dictionary[i] = word\n",
    "    input_embeddings[i] = embeddings[i]\n",
    "# Extract output vocabulary\n",
    "for i in range(output_vocab_size):\n",
    "    word = reverse_dictionary[i]\n",
    "    output_dictionary[word] = i\n",
    "    output_reverse_dictionary[i] = word\n",
    "    output_embeddings = embeddings[i]\n",
    "    \n",
    "del dictionary, reverse_dictionary, embeddings\n",
    "print('Input vocabulary size: %d' % input_vocab_size)\n",
    "print('Output vocabulary size: %d' % output_vocab_size)"
   ]
  },
  {
   "cell_type": "code",
   "execution_count": 6,
   "metadata": {},
   "outputs": [],
   "source": [
    "# Load preprocessed titles and articles\n",
    "titles = pickle.load(open('processed_data/titles', 'rb'))\n",
    "articles = pickle.load(open('processed_data/articles', 'rb'))"
   ]
  },
  {
   "cell_type": "code",
   "execution_count": 7,
   "metadata": {},
   "outputs": [
    {
     "name": "stdout",
     "output_type": "stream",
     "text": [
      "Total number of samples: 141564\n"
     ]
    }
   ],
   "source": [
    "# Number of tokens to extract from the beginning of each article\n",
    "max_article_size = 80\n",
    "min_article_size = 30\n",
    "\n",
    "# Convert each title and article to lists of words\n",
    "# Discard if article size is less than minimum or is less than title size\n",
    "temp1 = list()\n",
    "temp2 = list()\n",
    "for i in range(len(articles)):\n",
    "    title = titles[i].split()\n",
    "    article = articles[i].split()[:max_article_size]\n",
    "    if (len(article)>=min_article_size) and (len(article)>len(title)):\n",
    "        temp1.append(title)\n",
    "        temp2.append(article)\n",
    "titles = temp1\n",
    "articles = temp2\n",
    "del temp1, temp2\n",
    "\n",
    "print('Total number of samples: %d' % len(articles))"
   ]
  },
  {
   "cell_type": "code",
   "execution_count": 8,
   "metadata": {},
   "outputs": [
    {
     "name": "stdout",
     "output_type": "stream",
     "text": [
      "Training set size: 140564\n",
      "Valid set size: 1000\n"
     ]
    }
   ],
   "source": [
    "# Validation set size\n",
    "valid_size = 1000\n",
    "\n",
    "# Separate into training and validation sets\n",
    "valid_titles = titles[:valid_size]\n",
    "valid_articles = articles[:valid_size]\n",
    "train_titles = titles[valid_size:]\n",
    "train_articles = articles[valid_size:]\n",
    "train_size = len(train_articles)\n",
    "del titles, articles\n",
    "\n",
    "print('Training set size: %d' % train_size)\n",
    "print('Valid set size: %d' % valid_size)"
   ]
  },
  {
   "cell_type": "code",
   "execution_count": 38,
   "metadata": {},
   "outputs": [],
   "source": [
    "batch_size = 128\n",
    "input_max_seq_len = max_article_size\n",
    "\n",
    "class BatchGenerator(object):\n",
    "    \n",
    "    def __init__(self, article_list, title_list, batch_size, max_len):\n",
    "        self._article_list = article_list\n",
    "        self._title_list = title_list\n",
    "        self._list_size = len(article_list) # or title_list\n",
    "        self._batch_size = batch_size\n",
    "        self._max_len = max_len\n",
    "        segment = self._list_size // batch_size\n",
    "        self._cursor = [offset*segment for offset in range(batch_size)]\n",
    "        \n",
    "    def next_seq(self):\n",
    "        # List to hold articles\n",
    "        seq_list = list()\n",
    "        # List to hold titles\n",
    "        labels = list()\n",
    "        # Tensor to hold length of each sequence in a batch\n",
    "        seq_lens = torch.cuda.LongTensor(self._batch_size)\n",
    "        # Tensor to hold index of each word of an article\n",
    "        sequence = torch.cuda.LongTensor(self._max_len).fill_(0)\n",
    "        for b in range(self._batch_size):\n",
    "            # Each article as a list of words\n",
    "            _list = self._article_list[self._cursor[b]]\n",
    "            length = len(_list)\n",
    "            seq_lens[b] = length\n",
    "            # Place word indices from the left\n",
    "            sequence[:length] = torch.from_numpy(np.asarray([input_dictionary[word] \n",
    "                                 if word in input_dictionary \n",
    "                                 else input_dictionary['UNK_token'] for word in _list]))\n",
    "            seq_list.append(sequence)\n",
    "            # Corresponding title\n",
    "            labels.append(self._title_list[self._cursor[b]])\n",
    "            self._cursor[b] = (self._cursor[b] + 1) % self._list_size\n",
    "        if self._batch_size > 1:\n",
    "            seq_lens, indices = torch.sort(seq_lens, descending=True)\n",
    "            seq_list = [seq_list[i] for i in indices]\n",
    "            labels = [labels[i] for i in indices]\n",
    "        return seq_list, labels, seq_lens\n",
    "\n",
    "train_batches = BatchGenerator(train_articles, train_titles, batch_size, input_max_seq_len)\n",
    "valid_batches = BatchGenerator(valid_articles, valid_titles, 1, input_max_seq_len)"
   ]
  },
  {
   "cell_type": "code",
   "execution_count": null,
   "metadata": {},
   "outputs": [],
   "source": [
    "# Number of hidden units in each hidden layer\n",
    "encoder_hidden_size = 512\n",
    "# Number of recurrent layers in encoder\n",
    "encoder_num_layers = 2\n",
    "# Encoder dropout\n",
    "encoder_dropout = 0\n",
    "\n",
    "class EncoderRNN(nn.Module):\n",
    "    \n",
    "    def __init__(self, embeddings, vocab_size, hidden_size, num_layers, dropout):\n",
    "        super(EncoderRNN, self).__init__()\n",
    "        \n",
    "        # Hyperparameters\n",
    "        self._vocab_size = vocab_size\n",
    "        self._hidden_size = hidden_size\n",
    "        self._num_layers = num_layers\n",
    "        self._dropout = dropout\n",
    "        \n",
    "        # Hidden layer and cell state of model\n",
    "        # Initialize before calling model\n",
    "        self.hidden = None\n",
    "        \n",
    "        # Lookup table that stores word embeddings\n",
    "        self.embed = nn.Embedding(self._vocab_size, num_dims).cuda()\n",
    "        self.embed.weight.data.copy_(torch.from_numpy(embeddings))\n",
    "        self.embed.weight.requires_grad = False\n",
    "        \n",
    "        # Pytorch lstm module\n",
    "        self.lstm = nn.LSTM(num_dims, self._hidden_size, \n",
    "                            self._num_layers, dropout=self._dropout)\n",
    "        self.lstm.cuda()\n",
    "        \n",
    "    def init_hidden(self, batch_size):\n",
    "        return (Variable(torch.cuda.FloatTensor(self._num_layers, batch_size,\n",
    "                    self._hidden_size).fill_(0), requires_grad=False), \n",
    "                Variable(torch.cuda.FloatTensor(self._num_layers, batch_size, \n",
    "                    self._hidden_size).fill_(0), \n",
    "                         requires_grad=False))\n",
    "    \n",
    "    def forward(self, seq_list, seq_lens):\n",
    "        batch_size = len(seq_list)\n",
    "        inputs = Variable(torch.cuda.FloatTensor(input_max_seq_len, batch_size, \n",
    "                        num_dims), requires_grad=False)\n",
    "        for b in range(batch_size):\n",
    "            inputs[:,b] = self.embed(Variable(seq_list[b], requires_grad=False).cuda())\n",
    "        packed_input = pack_padded_sequence(inputs, seq_lens.cpu().numpy())\n",
    "        output, self.hidden = self.lstm(packed_inputs, (self.hidden))"
   ]
  },
  {
   "cell_type": "code",
   "execution_count": null,
   "metadata": {},
   "outputs": [],
   "source": [
    "learning_rate = 0.1\n",
    "\n",
    "# Filter parameters that do not require gradients\n",
    "encoder_parameters = filter(lambda p: p.requires_grad, encoder.parameters())\n",
    "decoder_parameters = filter(lambda p: p.requires_grad, decoder.parameters())\n",
    "# Optimizers\n",
    "encoder_optimizer = torch.optim.SGD(encoder_parameters, lr=learning_rate)\n",
    "decoder_optimizer = torch.optim.SGD(decoder_parameters, lr=learning_rate)\n",
    "# Loss function\n",
    "loss_function = nn.CrossEntropyLoss()"
   ]
  }
 ],
 "metadata": {
  "kernelspec": {
   "display_name": "Python 3",
   "language": "python",
   "name": "python3"
  },
  "language_info": {
   "codemirror_mode": {
    "name": "ipython",
    "version": 3
   },
   "file_extension": ".py",
   "mimetype": "text/x-python",
   "name": "python",
   "nbconvert_exporter": "python",
   "pygments_lexer": "ipython3",
   "version": "3.5.2"
  }
 },
 "nbformat": 4,
 "nbformat_minor": 2
}
