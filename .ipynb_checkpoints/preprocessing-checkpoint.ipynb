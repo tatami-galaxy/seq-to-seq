{
 "cells": [
  {
   "cell_type": "code",
   "execution_count": 1,
   "metadata": {},
   "outputs": [],
   "source": [
    "import pandas as pd\n",
    "import re\n",
    "from num2words import num2words\n",
    "import pickle"
   ]
  },
  {
   "cell_type": "code",
   "execution_count": 2,
   "metadata": {},
   "outputs": [],
   "source": [
    "# Read csv files into pandas dataframes\n",
    "data1 = pd.read_csv('raw_data/articles1.csv')\n",
    "data2 = pd.read_csv('raw_data/articles2.csv')\n",
    "data3 = pd.read_csv('raw_data/articles3.csv')"
   ]
  },
  {
   "cell_type": "code",
   "execution_count": 3,
   "metadata": {},
   "outputs": [],
   "source": [
    "# Store titles in list\n",
    "titles = list()\n",
    "for title in data1['title']:\n",
    "    titles.append(title)\n",
    "for title in data2['title']:\n",
    "    titles.append(title)\n",
    "for title in data3['title']:\n",
    "    titles.append(title)"
   ]
  },
  {
   "cell_type": "code",
   "execution_count": 4,
   "metadata": {},
   "outputs": [],
   "source": [
    "# Store articles in list\n",
    "articles = list()\n",
    "for article in data1['content']:\n",
    "    articles.append(article)\n",
    "for article in data2['content']:\n",
    "    articles.append(article)\n",
    "for article in data3['content']:\n",
    "    articles.append(article)"
   ]
  },
  {
   "cell_type": "code",
   "execution_count": 5,
   "metadata": {},
   "outputs": [],
   "source": [
    "# Delete empty items\n",
    "del titles[64875]\n",
    "del articles[64875]\n",
    "\n",
    "del titles[120636]\n",
    "del articles[120636]"
   ]
  },
  {
   "cell_type": "code",
   "execution_count": 6,
   "metadata": {},
   "outputs": [],
   "source": [
    "# Remove \"- The New York Times\" and \"- Breitbart\" from then ends\n",
    "temp = [None]*len(titles)\n",
    "for t in range(len(titles)):\n",
    "    posn = titles[t].rfind(\"- The New York Times\")\n",
    "    if posn == -1 :\n",
    "        posn = titles[t].rfind(\"- Breitbart\")\n",
    "    if posn != -1 : temp[t] = titles[t][:posn]\n",
    "    else : temp[t] = titles[t]\n",
    "titles = temp"
   ]
  },
  {
   "cell_type": "code",
   "execution_count": 7,
   "metadata": {},
   "outputs": [],
   "source": [
    "for t in range(len(titles)):\n",
    "    temp[t] = re.sub(r\"%\", r\" percent \", titles[t])\n",
    "titles = temp\n",
    "\n",
    "for t in range(len(titles)):\n",
    "    temp[t] = re.sub(r\"&amp\", r\"and\", titles[t])\n",
    "titles = temp\n",
    "for t in range(len(titles)):\n",
    "    temp[t] = re.sub(r\"&quot\", r\"\", titles[t])\n",
    "titles = temp\n",
    "for t in range(len(titles)):\n",
    "    temp[t] = re.sub(r\"&\", r\"and\", titles[t])\n",
    "titles = temp\n",
    "\n",
    "for t in range(len(titles)):\n",
    "    temp[t] = re.sub(r\"\\+\", r\" plus \", titles[t])\n",
    "titles = temp\n",
    "\n",
    "for t in range(len(titles)):\n",
    "    temp[t] = re.sub(r\"=\", r\" equals \", titles[t])\n",
    "titles = temp\n",
    "\n",
    "for t in range(len(titles)):\n",
    "    temp[t] = re.sub(r\"\\$\", r\" dollar \", titles[t])\n",
    "titles = temp\n",
    "for t in range(len(titles)):\n",
    "    temp[t] = re.sub(r\"£\", r\" pound \", titles[t])\n",
    "titles = temp\n",
    "for t in range(len(titles)):\n",
    "    temp[t] = re.sub(r\"€\", r\" euro \", titles[t])\n",
    "titles = temp"
   ]
  },
  {
   "cell_type": "code",
   "execution_count": 8,
   "metadata": {},
   "outputs": [],
   "source": [
    "# Convert floats to words\n",
    "def num_to_words(match_object):\n",
    "    return \" \"+num2words(match_object.group(0))+\" \"\n",
    "\n",
    "for t in range(len(titles)):\n",
    "    temp[t] = re.sub(r\"\\d+\\.\\d+\", num_to_words, titles[t])\n",
    "titles = temp"
   ]
  },
  {
   "cell_type": "code",
   "execution_count": 9,
   "metadata": {},
   "outputs": [],
   "source": [
    "# This also converts comma separated integers to integers\n",
    "for t in range(len(titles)):\n",
    "    temp[t] = re.sub(r\",\", r\"\", titles[t])\n",
    "titles = temp"
   ]
  },
  {
   "cell_type": "code",
   "execution_count": 10,
   "metadata": {},
   "outputs": [],
   "source": [
    "# Convert integers to words\n",
    "def num_to_words(match_object):\n",
    "    return \" \"+num2words(int(match_object.group(0)))+\" \"\n",
    "\n",
    "for t in range(len(titles)):\n",
    "    temp[t] = re.sub(r\"\\d+\", num_to_words, titles[t])\n",
    "titles = temp"
   ]
  },
  {
   "cell_type": "code",
   "execution_count": 11,
   "metadata": {},
   "outputs": [],
   "source": [
    "for t in range(len(titles)):\n",
    "    temp[t] = re.sub(r\"-\", \" \", titles[t])\n",
    "titles = temp"
   ]
  },
  {
   "cell_type": "code",
   "execution_count": 12,
   "metadata": {},
   "outputs": [],
   "source": [
    "for t in range(len(titles)):\n",
    "    temp[t] = re.sub(r\"\\(\", \" \", titles[t])\n",
    "titles = temp\n",
    "for t in range(len(titles)):\n",
    "    temp[t] = re.sub(r\"\\)\", \" \", titles[t])\n",
    "titles = temp\n",
    "\n",
    "for t in range(len(titles)):\n",
    "    temp[t] = re.sub(r\"\\[\", \" \", titles[t])\n",
    "titles = temp\n",
    "for t in range(len(titles)):\n",
    "    temp[t] = re.sub(r\"\\]\", \" \", titles[t])\n",
    "titles = temp"
   ]
  },
  {
   "cell_type": "code",
   "execution_count": 13,
   "metadata": {},
   "outputs": [],
   "source": [
    "for t in range(len(titles)):\n",
    "    temp[t] = re.sub(r\"/\", \" \", titles[t])\n",
    "titles = temp\n",
    "\n",
    "for t in range(len(titles)):\n",
    "    temp[t] = re.sub(r'\"', \"\", titles[t])\n",
    "titles = temp\n",
    "for t in range(len(titles)):\n",
    "    temp[t] = re.sub(r'’', \"\", titles[t])\n",
    "titles = temp\n",
    "for t in range(len(titles)):\n",
    "    temp[t] = re.sub(r'‘', \"\", titles[t])\n",
    "titles = temp\n",
    "for t in range(len(titles)):\n",
    "    temp[t] = re.sub(r\"“\", \"\", titles[t])\n",
    "titles = temp\n",
    "for t in range(len(titles)):\n",
    "    temp[t] = re.sub(r\"”\", \"\", titles[t])\n",
    "titles = temp\n",
    "\n",
    "for t in range(len(titles)):\n",
    "    temp[t] = re.sub(r\"\\?\", \"\", titles[t])\n",
    "titles = temp\n",
    "\n",
    "for t in range(len(titles)):\n",
    "    temp[t] = re.sub(r'\\.', \"\", titles[t])\n",
    "titles = temp\n",
    "\n",
    "for t in range(len(titles)):\n",
    "    temp[t] = re.sub(r\"—\", \"\", titles[t])\n",
    "titles = temp\n",
    "\n",
    "for t in range(len(titles)):\n",
    "    temp[t] = re.sub(r\"\\|\", \" \", titles[t])\n",
    "titles = temp"
   ]
  },
  {
   "cell_type": "code",
   "execution_count": 14,
   "metadata": {},
   "outputs": [],
   "source": [
    "for t in range(len(titles)):\n",
    "    temp[t] = re.sub(r\"[!@#*:;_]\", \"\", titles[t])\n",
    "titles = temp"
   ]
  },
  {
   "cell_type": "code",
   "execution_count": 15,
   "metadata": {},
   "outputs": [],
   "source": [
    "titles[130077] = 'The AP asked the government for proof that flossing works The answer they dont know'"
   ]
  },
  {
   "cell_type": "code",
   "execution_count": 16,
   "metadata": {},
   "outputs": [],
   "source": [
    "# Convert titles to lowercase\n",
    "for t in range(len(titles)):\n",
    "    temp[t] = titles[t].lower()\n",
    "titles = temp"
   ]
  },
  {
   "cell_type": "markdown",
   "metadata": {},
   "source": [
    "Same procedure for articles"
   ]
  },
  {
   "cell_type": "code",
   "execution_count": 17,
   "metadata": {},
   "outputs": [],
   "source": [
    "var = [None]*len(articles)\n",
    "\n",
    "for t in range(len(articles)):\n",
    "    var[t] = re.sub(r\"%\", r\" percent \", articles[t])\n",
    "articles = var\n",
    "\n",
    "for t in range(len(articles)):\n",
    "    var[t] = re.sub(r\"&amp\", r\"and\", articles[t])\n",
    "articles = var\n",
    "for t in range(len(articles)):\n",
    "    var[t] = re.sub(r\"&quot\", r\"\", articles[t])\n",
    "articles = var\n",
    "for t in range(len(articles)):\n",
    "    var[t] = re.sub(r\"&\", r\"and\", articles[t])\n",
    "articles = var\n",
    "\n",
    "for t in range(len(articles)):\n",
    "    var[t] = re.sub(r\"\\+\", r\" plus \", articles[t])\n",
    "articles = var\n",
    "\n",
    "for t in range(len(articles)):\n",
    "    var[t] = re.sub(r\"=\", r\" equals \", articles[t])\n",
    "articles = var\n",
    "\n",
    "for t in range(len(articles)):\n",
    "    var[t] = re.sub(r\"\\$\", r\" dollar \", articles[t])\n",
    "articles = var\n",
    "for t in range(len(articles)):\n",
    "    var[t] = re.sub(r\"£\", r\" pound \", articles[t])\n",
    "articles = var\n",
    "for t in range(len(articles)):\n",
    "    var[t] = re.sub(r\"€\", r\" euro \", articles[t])\n",
    "articles = var"
   ]
  },
  {
   "cell_type": "code",
   "execution_count": 18,
   "metadata": {},
   "outputs": [],
   "source": [
    "# Convert floats to words\n",
    "def num_to_words(match_object):\n",
    "    return \" \"+num2words(match_object.group(0))+\" \"\n",
    "\n",
    "for t in range(len(articles)):\n",
    "    var[t] = re.sub(r\"\\d+\\.\\d+\", num_to_words, articles[t])\n",
    "articles = var"
   ]
  },
  {
   "cell_type": "code",
   "execution_count": 19,
   "metadata": {},
   "outputs": [],
   "source": [
    "# This also converts comma separated integers to integers\n",
    "for t in range(len(articles)):\n",
    "    var[t] = re.sub(r\",\", r\"\", articles[t])\n",
    "articles = var"
   ]
  },
  {
   "cell_type": "code",
   "execution_count": 20,
   "metadata": {},
   "outputs": [],
   "source": [
    "# Convert integers to words\n",
    "def num_to_words(match_object):\n",
    "    return \" \"+num2words(int(match_object.group(0)))+\" \"\n",
    "\n",
    "for t in range(len(articles)):\n",
    "    var[t] = re.sub(r\"\\d+\", num_to_words, articles[t])\n",
    "articles = var"
   ]
  },
  {
   "cell_type": "code",
   "execution_count": 21,
   "metadata": {},
   "outputs": [],
   "source": [
    "for t in range(len(articles)):\n",
    "    var[t] = re.sub(r\"-\", \" \", articles[t])\n",
    "articles = var"
   ]
  },
  {
   "cell_type": "code",
   "execution_count": 22,
   "metadata": {},
   "outputs": [],
   "source": [
    "for t in range(len(articles)):\n",
    "    var[t] = re.sub(r\"\\(\", \" \", articles[t])\n",
    "articles = var\n",
    "for t in range(len(articles)):\n",
    "    var[t] = re.sub(r\"\\)\", \" \", articles[t])\n",
    "articles = var\n",
    "\n",
    "for t in range(len(articles)):\n",
    "    var[t] = re.sub(r\"\\[\", \" \", articles[t])\n",
    "articles = var\n",
    "for t in range(len(articles)):\n",
    "    var[t] = re.sub(r\"\\]\", \" \", articles[t])\n",
    "articles = var"
   ]
  },
  {
   "cell_type": "code",
   "execution_count": 23,
   "metadata": {},
   "outputs": [],
   "source": [
    "for t in range(len(articles)):\n",
    "    var[t] = re.sub(r\"/\", \" \", articles[t])\n",
    "articles = var\n",
    "\n",
    "for t in range(len(articles)):\n",
    "    var[t] = re.sub(r'\"', \"\", articles[t])\n",
    "articles = var\n",
    "for t in range(len(articles)):\n",
    "    var[t] = re.sub(r'’', \"\", articles[t])\n",
    "articles = var\n",
    "for t in range(len(articles)):\n",
    "    var[t] = re.sub(r'‘', \"\", articles[t])\n",
    "articles = var\n",
    "for t in range(len(articles)):\n",
    "    var[t] = re.sub(r\"“\", \"\", articles[t])\n",
    "articles = var\n",
    "for t in range(len(articles)):\n",
    "    var[t] = re.sub(r\"”\", \"\", articles[t])\n",
    "articles = var\n",
    "\n",
    "for t in range(len(articles)):\n",
    "    var[t] = re.sub(r\"\\?\", \"\", articles[t])\n",
    "articles = var\n",
    "\n",
    "for t in range(len(articles)):\n",
    "    var[t] = re.sub(r'\\.', \"\", articles[t])\n",
    "articles = var\n",
    "\n",
    "for t in range(len(articles)):\n",
    "    var[t] = re.sub(r\"—\", \"\", articles[t])\n",
    "articles = var\n",
    "\n",
    "for t in range(len(articles)):\n",
    "    var[t] = re.sub(r\"\\|\", \" \", articles[t])\n",
    "articles = var"
   ]
  },
  {
   "cell_type": "code",
   "execution_count": 24,
   "metadata": {},
   "outputs": [],
   "source": [
    "for t in range(len(articles)):\n",
    "    var[t] = re.sub(r\"[!@#*:;_]\", \"\", articles[t])\n",
    "articles = var"
   ]
  },
  {
   "cell_type": "code",
   "execution_count": 25,
   "metadata": {},
   "outputs": [],
   "source": [
    "for t in range(len(articles)):\n",
    "    var[t] = re.sub(r\"■\", \"\", articles[t])\n",
    "articles = var"
   ]
  },
  {
   "cell_type": "code",
   "execution_count": 26,
   "metadata": {},
   "outputs": [],
   "source": [
    "# Convert articles to lowercase\n",
    "for t in range(len(articles)):\n",
    "    var[t] = articles[t].lower()\n",
    "articles = var"
   ]
  },
  {
   "cell_type": "code",
   "execution_count": 31,
   "metadata": {},
   "outputs": [],
   "source": [
    "with open('titles', 'wb') as file:\n",
    "    pickle.dump(titles, file)\n",
    "    \n",
    "with open('articles', 'wb') as file:\n",
    "    pickle.dump(articles, file)"
   ]
  },
  {
   "cell_type": "code",
   "execution_count": null,
   "metadata": {},
   "outputs": [],
   "source": []
  }
 ],
 "metadata": {
  "kernelspec": {
   "display_name": "Python 3",
   "language": "python",
   "name": "python3"
  },
  "language_info": {
   "codemirror_mode": {
    "name": "ipython",
    "version": 3
   },
   "file_extension": ".py",
   "mimetype": "text/x-python",
   "name": "python",
   "nbconvert_exporter": "python",
   "pygments_lexer": "ipython3",
   "version": "3.5.2"
  }
 },
 "nbformat": 4,
 "nbformat_minor": 2
}
