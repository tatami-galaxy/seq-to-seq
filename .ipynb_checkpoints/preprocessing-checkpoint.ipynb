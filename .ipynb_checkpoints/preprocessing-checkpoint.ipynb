{
 "cells": [
  {
   "cell_type": "code",
   "execution_count": 69,
   "metadata": {},
   "outputs": [],
   "source": [
    "import pandas as pd\n",
    "import re\n",
    "from num2words import num2words\n",
    "import pickle"
   ]
  },
  {
   "cell_type": "code",
   "execution_count": 70,
   "metadata": {},
   "outputs": [],
   "source": [
    "# Read csv files into pandas dataframes\n",
    "data1 = pd.read_csv('raw_data/articles1.csv')\n",
    "data2 = pd.read_csv('raw_data/articles2.csv')\n",
    "data3 = pd.read_csv('raw_data/articles3.csv')"
   ]
  },
  {
   "cell_type": "code",
   "execution_count": 71,
   "metadata": {},
   "outputs": [],
   "source": [
    "# Store titles in list\n",
    "titles = list()\n",
    "for title in data1['title']:\n",
    "    titles.append(title)\n",
    "for title in data2['title']:\n",
    "    titles.append(title)\n",
    "for title in data3['title']:\n",
    "    titles.append(title)"
   ]
  },
  {
   "cell_type": "code",
   "execution_count": 72,
   "metadata": {},
   "outputs": [],
   "source": [
    "# Store articles in list\n",
    "articles = list()\n",
    "for article in data1['content']:\n",
    "    articles.append(article)\n",
    "for article in data2['content']:\n",
    "    articles.append(article)\n",
    "for article in data3['content']:\n",
    "    articles.append(article)"
   ]
  },
  {
   "cell_type": "code",
   "execution_count": 73,
   "metadata": {},
   "outputs": [],
   "source": [
    "# Delete empty items\n",
    "del titles[64875]\n",
    "del articles[64875]\n",
    "\n",
    "del titles[120636]\n",
    "del articles[120636]"
   ]
  },
  {
   "cell_type": "code",
   "execution_count": 74,
   "metadata": {},
   "outputs": [],
   "source": [
    "# Remove \"- The New York Times\" and \"- Breitbart\" from then ends\n",
    "temp = [None]*len(titles)\n",
    "for t in range(len(titles)):\n",
    "    posn = titles[t].rfind(\"- The New York Times\")\n",
    "    if posn == -1 :\n",
    "        posn = titles[t].rfind(\"- Breitbart\")\n",
    "    if posn != -1 : temp[t] = titles[t][:posn]\n",
    "    else : temp[t] = titles[t]\n",
    "titles = temp"
   ]
  },
  {
   "cell_type": "code",
   "execution_count": 75,
   "metadata": {},
   "outputs": [],
   "source": [
    "for t in range(len(titles)):\n",
    "    temp[t] = re.sub(r\"%\", r\" percent \", titles[t])\n",
    "titles = temp\n",
    "\n",
    "for t in range(len(titles)):\n",
    "    temp[t] = re.sub(r\"&amp\", r\"and\", titles[t])\n",
    "titles = temp\n",
    "for t in range(len(titles)):\n",
    "    temp[t] = re.sub(r\"&quot\", r\"\", titles[t])\n",
    "titles = temp\n",
    "for t in range(len(titles)):\n",
    "    temp[t] = re.sub(r\"&\", r\"and\", titles[t])\n",
    "titles = temp\n",
    "\n",
    "for t in range(len(titles)):\n",
    "    temp[t] = re.sub(r\"\\+\", r\" plus \", titles[t])\n",
    "titles = temp\n",
    "\n",
    "for t in range(len(titles)):\n",
    "    temp[t] = re.sub(r\"=\", r\" equals \", titles[t])\n",
    "titles = temp\n",
    "\n",
    "for t in range(len(titles)):\n",
    "    temp[t] = re.sub(r\"\\$\", r\" dollar \", titles[t])\n",
    "titles = temp\n",
    "for t in range(len(titles)):\n",
    "    temp[t] = re.sub(r\"£\", r\" pound \", titles[t])\n",
    "titles = temp\n",
    "for t in range(len(titles)):\n",
    "    temp[t] = re.sub(r\"€\", r\" euro \", titles[t])\n",
    "titles = temp"
   ]
  },
  {
   "cell_type": "code",
   "execution_count": 76,
   "metadata": {},
   "outputs": [],
   "source": [
    "# Convert floats to words\n",
    "def num_to_words(match_object):\n",
    "    return \" \"+num2words(match_object.group(0))+\" \"\n",
    "\n",
    "for t in range(len(titles)):\n",
    "    temp[t] = re.sub(r\"\\d+\\.\\d+\", num_to_words, titles[t])\n",
    "titles = temp"
   ]
  },
  {
   "cell_type": "code",
   "execution_count": 77,
   "metadata": {},
   "outputs": [],
   "source": [
    "# This also converts comma separated integers to integers\n",
    "for t in range(len(titles)):\n",
    "    temp[t] = re.sub(r\",\", r\"\", titles[t])\n",
    "titles = temp"
   ]
  },
  {
   "cell_type": "code",
   "execution_count": 78,
   "metadata": {},
   "outputs": [],
   "source": [
    "# Convert integers to words\n",
    "def num_to_words(match_object):\n",
    "    return \" \"+num2words(int(match_object.group(0)))+\" \"\n",
    "\n",
    "for t in range(len(titles)):\n",
    "    temp[t] = re.sub(r\"\\d+\", num_to_words, titles[t])\n",
    "titles = temp"
   ]
  },
  {
   "cell_type": "code",
   "execution_count": 79,
   "metadata": {},
   "outputs": [],
   "source": [
    "for t in range(len(titles)):\n",
    "    temp[t] = re.sub(r\"-\", \" \", titles[t])\n",
    "titles = temp"
   ]
  },
  {
   "cell_type": "code",
   "execution_count": 80,
   "metadata": {},
   "outputs": [],
   "source": [
    "for t in range(len(titles)):\n",
    "    temp[t] = re.sub(r\"\\(\", \" \", titles[t])\n",
    "titles = temp\n",
    "for t in range(len(titles)):\n",
    "    temp[t] = re.sub(r\"\\)\", \" \", titles[t])\n",
    "titles = temp\n",
    "\n",
    "for t in range(len(titles)):\n",
    "    temp[t] = re.sub(r\"\\[\", \" \", titles[t])\n",
    "titles = temp\n",
    "for t in range(len(titles)):\n",
    "    temp[t] = re.sub(r\"\\]\", \" \", titles[t])\n",
    "titles = temp"
   ]
  },
  {
   "cell_type": "code",
   "execution_count": 81,
   "metadata": {},
   "outputs": [],
   "source": [
    "for t in range(len(titles)):\n",
    "    temp[t] = re.sub(r\"/\", \" \", titles[t])\n",
    "titles = temp\n",
    "\n",
    "for t in range(len(titles)):\n",
    "    temp[t] = re.sub(r'\"', \"\", titles[t])\n",
    "titles = temp\n",
    "for t in range(len(titles)):\n",
    "    temp[t] = re.sub(r'’', \"\", titles[t])\n",
    "titles = temp\n",
    "for t in range(len(titles)):\n",
    "    temp[t] = re.sub(r'‘', \"\", titles[t])\n",
    "titles = temp\n",
    "for t in range(len(titles)):\n",
    "    temp[t] = re.sub(r\"“\", \"\", titles[t])\n",
    "titles = temp\n",
    "for t in range(len(titles)):\n",
    "    temp[t] = re.sub(r\"”\", \"\", titles[t])\n",
    "titles = temp\n",
    "\n",
    "for t in range(len(titles)):\n",
    "    temp[t] = re.sub(r\"\\?\", \"\", titles[t])\n",
    "titles = temp\n",
    "\n",
    "for t in range(len(titles)):\n",
    "    temp[t] = re.sub(r'\\.', \"\", titles[t])\n",
    "titles = temp\n",
    "\n",
    "for t in range(len(titles)):\n",
    "    temp[t] = re.sub(r\"—\", \"\", titles[t])\n",
    "titles = temp\n",
    "\n",
    "for t in range(len(titles)):\n",
    "    temp[t] = re.sub(r\"\\|\", \" \", titles[t])\n",
    "titles = temp"
   ]
  },
  {
   "cell_type": "code",
   "execution_count": 82,
   "metadata": {},
   "outputs": [],
   "source": [
    "for t in range(len(titles)):\n",
    "    temp[t] = re.sub(r\"[!@#*:;_]\", \"\", titles[t])\n",
    "titles = temp"
   ]
  },
  {
   "cell_type": "code",
   "execution_count": 83,
   "metadata": {},
   "outputs": [],
   "source": [
    "titles[130077] = 'The AP asked the government for proof that flossing works The answer they dont know'"
   ]
  },
  {
   "cell_type": "code",
   "execution_count": 84,
   "metadata": {},
   "outputs": [],
   "source": [
    "# Convert titles to lowercase\n",
    "for t in range(len(titles)):\n",
    "    temp[t] = titles[t].lower()\n",
    "titles = temp"
   ]
  },
  {
   "cell_type": "markdown",
   "metadata": {},
   "source": [
    "Same procedure for articles"
   ]
  },
  {
   "cell_type": "code",
   "execution_count": 85,
   "metadata": {},
   "outputs": [],
   "source": [
    "var = [None]*len(articles)\n",
    "\n",
    "for t in range(len(articles)):\n",
    "    var[t] = re.sub(r\"%\", r\" percent \", articles[t])\n",
    "articles = var\n",
    "\n",
    "for t in range(len(articles)):\n",
    "    var[t] = re.sub(r\"&amp\", r\"and\", articles[t])\n",
    "articles = var\n",
    "for t in range(len(articles)):\n",
    "    var[t] = re.sub(r\"&quot\", r\"\", articles[t])\n",
    "articles = var\n",
    "for t in range(len(articles)):\n",
    "    var[t] = re.sub(r\"&\", r\"and\", articles[t])\n",
    "articles = var\n",
    "\n",
    "for t in range(len(articles)):\n",
    "    var[t] = re.sub(r\"\\+\", r\" plus \", articles[t])\n",
    "articles = var\n",
    "\n",
    "for t in range(len(articles)):\n",
    "    var[t] = re.sub(r\"=\", r\" equals \", articles[t])\n",
    "articles = var\n",
    "\n",
    "for t in range(len(articles)):\n",
    "    var[t] = re.sub(r\"\\$\", r\" dollar \", articles[t])\n",
    "articles = var\n",
    "for t in range(len(articles)):\n",
    "    var[t] = re.sub(r\"£\", r\" pound \", articles[t])\n",
    "articles = var\n",
    "for t in range(len(articles)):\n",
    "    var[t] = re.sub(r\"€\", r\" euro \", articles[t])\n",
    "articles = var"
   ]
  },
  {
   "cell_type": "code",
   "execution_count": 86,
   "metadata": {},
   "outputs": [],
   "source": [
    "# Convert floats to words\n",
    "def num_to_words(match_object):\n",
    "    return \" \"+num2words(match_object.group(0))+\" \"\n",
    "\n",
    "for t in range(len(articles)):\n",
    "    var[t] = re.sub(r\"\\d+\\.\\d+\", num_to_words, articles[t])\n",
    "articles = var"
   ]
  },
  {
   "cell_type": "code",
   "execution_count": 87,
   "metadata": {},
   "outputs": [],
   "source": [
    "# This also converts comma separated integers to integers\n",
    "for t in range(len(articles)):\n",
    "    var[t] = re.sub(r\",\", r\"\", articles[t])\n",
    "articles = var"
   ]
  },
  {
   "cell_type": "code",
   "execution_count": 88,
   "metadata": {},
   "outputs": [],
   "source": [
    "# Convert integers to words\n",
    "def num_to_words(match_object):\n",
    "    return \" \"+num2words(int(match_object.group(0)))+\" \"\n",
    "\n",
    "for t in range(len(articles)):\n",
    "    var[t] = re.sub(r\"\\d+\", num_to_words, articles[t])\n",
    "articles = var"
   ]
  },
  {
   "cell_type": "code",
   "execution_count": 89,
   "metadata": {},
   "outputs": [],
   "source": [
    "for t in range(len(articles)):\n",
    "    var[t] = re.sub(r\"-\", \" \", articles[t])\n",
    "articles = var"
   ]
  },
  {
   "cell_type": "code",
   "execution_count": 90,
   "metadata": {},
   "outputs": [],
   "source": [
    "for t in range(len(articles)):\n",
    "    var[t] = re.sub(r\"\\(\", \" \", articles[t])\n",
    "articles = var\n",
    "for t in range(len(articles)):\n",
    "    var[t] = re.sub(r\"\\)\", \" \", articles[t])\n",
    "articles = var\n",
    "\n",
    "for t in range(len(articles)):\n",
    "    var[t] = re.sub(r\"\\[\", \" \", articles[t])\n",
    "articles = var\n",
    "for t in range(len(articles)):\n",
    "    var[t] = re.sub(r\"\\]\", \" \", articles[t])\n",
    "articles = var"
   ]
  },
  {
   "cell_type": "code",
   "execution_count": 91,
   "metadata": {},
   "outputs": [],
   "source": [
    "for t in range(len(articles)):\n",
    "    var[t] = re.sub(r\"/\", \" \", articles[t])\n",
    "articles = var\n",
    "\n",
    "for t in range(len(articles)):\n",
    "    var[t] = re.sub(r'\"', \"\", articles[t])\n",
    "articles = var\n",
    "for t in range(len(articles)):\n",
    "    var[t] = re.sub(r'’', \"\", articles[t])\n",
    "articles = var\n",
    "for t in range(len(articles)):\n",
    "    var[t] = re.sub(r'‘', \"\", articles[t])\n",
    "articles = var\n",
    "for t in range(len(articles)):\n",
    "    var[t] = re.sub(r\"“\", \"\", articles[t])\n",
    "articles = var\n",
    "for t in range(len(articles)):\n",
    "    var[t] = re.sub(r\"”\", \"\", articles[t])\n",
    "articles = var\n",
    "\n",
    "for t in range(len(articles)):\n",
    "    var[t] = re.sub(r\"\\?\", \"\", articles[t])\n",
    "articles = var\n",
    "\n",
    "for t in range(len(articles)):\n",
    "    var[t] = re.sub(r'\\.', \"\", articles[t])\n",
    "articles = var\n",
    "\n",
    "for t in range(len(articles)):\n",
    "    var[t] = re.sub(r\"—\", \"\", articles[t])\n",
    "articles = var\n",
    "\n",
    "for t in range(len(articles)):\n",
    "    var[t] = re.sub(r\"\\|\", \" \", articles[t])\n",
    "articles = var"
   ]
  },
  {
   "cell_type": "code",
   "execution_count": 92,
   "metadata": {},
   "outputs": [],
   "source": [
    "for t in range(len(articles)):\n",
    "    var[t] = re.sub(r\"[!@#*:;_]\", \"\", articles[t])\n",
    "articles = var"
   ]
  },
  {
   "cell_type": "code",
   "execution_count": 93,
   "metadata": {},
   "outputs": [],
   "source": [
    "for t in range(len(articles)):\n",
    "    var[t] = re.sub(r\"■\", \"\", articles[t])\n",
    "articles = var"
   ]
  },
  {
   "cell_type": "code",
   "execution_count": 94,
   "metadata": {},
   "outputs": [],
   "source": [
    "# Convert articles to lowercase\n",
    "for t in range(len(articles)):\n",
    "    var[t] = articles[t].lower()\n",
    "articles = var"
   ]
  },
  {
   "cell_type": "code",
   "execution_count": 95,
   "metadata": {},
   "outputs": [
    {
     "name": "stdout",
     "output_type": "stream",
     "text": [
      "Total number of samples: 141549\n",
      "Maximum article size: 80\n",
      "Maximum title size: 37\n"
     ]
    }
   ],
   "source": [
    "# Number of tokens to extract from the beginning of each article\n",
    "max_article_size = 80\n",
    "min_article_size = 30\n",
    "\n",
    "# Convert each title and article to lists of words\n",
    "# Discard if article size is less than minimum or is less than title size\n",
    "# or if title doesn't exist\n",
    "temp1 = list()\n",
    "temp2 = list()\n",
    "max_title_size = 0\n",
    "for i in range(len(articles)):\n",
    "    title = titles[i].split()\n",
    "    article = articles[i].split()[:max_article_size]\n",
    "    if len(title) > max_title_size: max_title_size = len(title)\n",
    "    if (len(article)>=min_article_size) and (len(article)>len(title)) and len(title) > 0:\n",
    "        temp1.append(' '.join(title))\n",
    "        temp2.append(' '.join(article))\n",
    "titles = temp1\n",
    "articles = temp2\n",
    "del temp1, temp2\n",
    "\n",
    "print('Total number of samples: %d' % len(articles))\n",
    "print('Maximum article size: %d' % max_article_size)\n",
    "print('Maximum title size: %d' % max_title_size)"
   ]
  },
  {
   "cell_type": "code",
   "execution_count": 96,
   "metadata": {},
   "outputs": [],
   "source": [
    "temp = titles\n",
    "for t in range(len(titles)):\n",
    "    temp[t] = re.sub(r\",\", \"\", titles[t])\n",
    "titles = temp\n",
    "\n",
    "temp = articles\n",
    "for t in range(len(articles)):\n",
    "    temp[t] = re.sub(r\",\", \"\", articles[t])\n",
    "articles = temp"
   ]
  },
  {
   "cell_type": "code",
   "execution_count": 97,
   "metadata": {},
   "outputs": [],
   "source": [
    "# Validation set size\n",
    "valid_size = 1000\n",
    "\n",
    "dft_train = pd.DataFrame(titles[valid_size:], columns=['titles'])\n",
    "dfa_train = pd.DataFrame(articles[valid_size:], columns=['articles'])\n",
    "\n",
    "dft_valid = pd.DataFrame(titles[:valid_size], columns=['titles'])\n",
    "dfa_valid = pd.DataFrame(articles[:valid_size], columns=['articles'])"
   ]
  },
  {
   "cell_type": "code",
   "execution_count": 98,
   "metadata": {},
   "outputs": [],
   "source": [
    "frames_train = [dfa_train, dft_train]\n",
    "dataframe_train = pd.concat(frames_train, axis=1)\n",
    "\n",
    "frames_valid = [dfa_valid, dft_valid]\n",
    "dataframe_valid = pd.concat(frames_valid, axis=1)"
   ]
  },
  {
   "cell_type": "code",
   "execution_count": 99,
   "metadata": {},
   "outputs": [],
   "source": [
    "dataframe_train.to_csv('processed_data/train_dataset.csv', index=False)\n",
    "dataframe_valid.to_csv('processed_data/valid_dataset.csv', index=False)"
   ]
  },
  {
   "cell_type": "code",
   "execution_count": 100,
   "metadata": {},
   "outputs": [],
   "source": [
    "input_vocab_size = 100000\n",
    "output_vocab_size = 100000\n",
    "\n",
    "input_file = open('.vector_cache/crawl-300d-2M-input.vec', 'w')\n",
    "output_file = open('.vector_cache/crawl-300d-2M-output.vec', 'w')\n",
    "embedding_file = open('processed_data/crawl-300d-2M.vec')\n",
    "embedding_file.readline()\n",
    "for i in range(input_vocab_size):\n",
    "    input_file.write(embedding_file.readline())\n",
    "embedding_file.seek(0)\n",
    "embedding_file.readline()\n",
    "for i in range(output_vocab_size):\n",
    "    output_file.write(embedding_file.readline())"
   ]
  },
  {
   "cell_type": "markdown",
   "metadata": {},
   "source": [
    "with open('processed_data/titles', 'wb') as file:\n",
    "    pickle.dump(titles, file)\n",
    "    \n",
    "with open('processed_data/articles', 'wb') as file:\n",
    "    pickle.dump(articles, file)"
   ]
  }
 ],
 "metadata": {
  "kernelspec": {
   "display_name": "Python 3",
   "language": "python",
   "name": "python3"
  },
  "language_info": {
   "codemirror_mode": {
    "name": "ipython",
    "version": 3
   },
   "file_extension": ".py",
   "mimetype": "text/x-python",
   "name": "python",
   "nbconvert_exporter": "python",
   "pygments_lexer": "ipython3",
   "version": "3.5.2"
  }
 },
 "nbformat": 4,
 "nbformat_minor": 2
}
