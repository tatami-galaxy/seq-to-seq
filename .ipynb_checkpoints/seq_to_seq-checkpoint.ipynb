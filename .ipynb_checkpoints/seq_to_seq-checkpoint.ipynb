{
 "cells": [
  {
   "cell_type": "code",
   "execution_count": 1,
   "metadata": {},
   "outputs": [],
   "source": [
    "import numpy as np\n",
    "import pickle\n",
    "import torch\n",
    "import torch.nn as nn\n",
    "from torch.autograd import Variable\n",
    "import torch.backends.cudnn as cudnn"
   ]
  },
  {
   "cell_type": "code",
   "execution_count": 2,
   "metadata": {},
   "outputs": [],
   "source": [
    "# 2 million word vectors trained on Common Crawl (600B tokens)\n",
    "embedding_file = open('processed_data/crawl-300d-2M.vec')"
   ]
  },
  {
   "cell_type": "code",
   "execution_count": 3,
   "metadata": {},
   "outputs": [],
   "source": [
    "# The first line of the file contains the number of words in the vocabulary and the size of the vectors. \n",
    "# Each line contains a word followed by its vectors, like in the default fastText text format. \n",
    "# Each value is space separated.\n",
    "# Words are ordered by descending frequency.\n",
    "meta = embedding_file.readline()\n",
    "num_words = int(meta.split()[0])\n",
    "num_dims = int(meta.split()[1])"
   ]
  },
  {
   "cell_type": "code",
   "execution_count": 4,
   "metadata": {},
   "outputs": [
    {
     "name": "stdout",
     "output_type": "stream",
     "text": [
      "Total words: 1999999\n",
      "Number of dimensions: 300\n"
     ]
    }
   ],
   "source": [
    "# Some 'words' are not picked up by split(). Ignoring them.\n",
    "# dictionary -> word : index\n",
    "# reverse_dictionary -> index : word\n",
    "dictionary = dict()\n",
    "# To store embeddings for each word\n",
    "embeddings = np.zeros((num_words, num_dims))\n",
    "i = 0\n",
    "\n",
    "# start of sequence token\n",
    "dictionary['PAD_token'] = len(dictionary)\n",
    "embeddings[i] = np.random.rand(num_dims)\n",
    "i += 1\n",
    "\n",
    "# start of sequence token\n",
    "dictionary['Start_of_Sequence'] = len(dictionary)\n",
    "embeddings[i] = np.random.rand(num_dims)\n",
    "i += 1\n",
    "\n",
    "# end of sequence token\n",
    "dictionary['End_of_Sequence'] = len(dictionary)\n",
    "embeddings[i] = np.random.rand(num_dims)\n",
    "i += 1\n",
    "\n",
    "# unkown word token\n",
    "dictionary['UNK_token'] = len(dictionary)\n",
    "embeddings[i] = np.random.rand(num_dims)\n",
    "i += 1\n",
    "\n",
    "# Skip words not separated by split()\n",
    "for line in embedding_file:\n",
    "    items = line.split()\n",
    "    if len(items) == (num_dims + 1):\n",
    "        dictionary[items[0]] = len(dictionary)\n",
    "        embeddings[i] = np.asarray([float(value) for value in items[1:]], dtype=np.float64)\n",
    "        i += 1\n",
    "reverse_dictionary = dict(zip(dictionary.values(), dictionary.keys()))\n",
    "max_vocab = len(dictionary)\n",
    "embeddings = embeddings[:max_vocab]\n",
    "embedding_file.close()\n",
    "\n",
    "print(\"Total words: %d\" % max_vocab)\n",
    "print(\"Number of dimensions: %d\" % num_dims)"
   ]
  },
  {
   "cell_type": "code",
   "execution_count": 5,
   "metadata": {},
   "outputs": [
    {
     "name": "stdout",
     "output_type": "stream",
     "text": [
      "Input vocabulary size: 40000\n",
      "Output vocabulary size: 40000\n"
     ]
    }
   ],
   "source": [
    "input_vocab_size = 40000\n",
    "output_vocab_size = 40000\n",
    "# Input words and embeddings\n",
    "input_dictionary = dict()\n",
    "input_reverse_dictionary = dict()\n",
    "input_embeddings = np.zeros((input_vocab_size, num_dims))\n",
    "# Output words and embeddings\n",
    "output_dictionary = dict()\n",
    "output_reverse_dictionary = dict()\n",
    "output_embeddings = np.zeros((output_vocab_size, num_dims))\n",
    "# Extract input vocabulary\n",
    "for i in range(input_vocab_size):\n",
    "    word = reverse_dictionary[i]\n",
    "    input_dictionary[word] = i\n",
    "    input_reverse_dictionary[i] = word\n",
    "    input_embeddings[i] = embeddings[i]\n",
    "# Extract output vocabulary\n",
    "for i in range(output_vocab_size):\n",
    "    word = reverse_dictionary[i]\n",
    "    output_dictionary[word] = i\n",
    "    output_reverse_dictionary[i] = word\n",
    "    output_embeddings = embeddings[i]\n",
    "    \n",
    "del dictionary, reverse_dictionary, embeddings\n",
    "print('Input vocabulary size: %d' % input_vocab_size)\n",
    "print('Output vocabulary size: %d' % output_vocab_size)"
   ]
  },
  {
   "cell_type": "code",
   "execution_count": 32,
   "metadata": {},
   "outputs": [],
   "source": [
    "# Load preprocessed titles and articles\n",
    "titles = pickle.load(open('processed_data/titles', 'rb'))\n",
    "articles = pickle.load(open('processed_data/articles', 'rb'))"
   ]
  },
  {
   "cell_type": "code",
   "execution_count": 33,
   "metadata": {},
   "outputs": [
    {
     "name": "stdout",
     "output_type": "stream",
     "text": [
      "Total number of samples: 141564\n"
     ]
    }
   ],
   "source": [
    "# Number of tokens to extract from the beginning of each article\n",
    "max_article_size = 80\n",
    "min_article_size = 30\n",
    "\n",
    "# Convert each title and article to lists of words\n",
    "# Discard if article size is less than minimum or is less than title size\n",
    "temp1 = list()\n",
    "temp2 = list()\n",
    "for i in range(len(articles)):\n",
    "    title = titles[i].split()\n",
    "    article = articles[i].split()[:max_article_size]\n",
    "    if (len(article)>=min_article_size) and (len(article)>len(title)):\n",
    "        temp1.append(title)\n",
    "        temp2.append(article)\n",
    "titles = temp1\n",
    "articles = temp2\n",
    "del temp1, temp2\n",
    "\n",
    "print('Total number of samples: %d' % len(articles))"
   ]
  },
  {
   "cell_type": "code",
   "execution_count": 34,
   "metadata": {},
   "outputs": [
    {
     "name": "stdout",
     "output_type": "stream",
     "text": [
      "Training set size: 140564\n",
      "Valid set size: 1000\n"
     ]
    }
   ],
   "source": [
    "# Validation set size\n",
    "valid_size = 1000\n",
    "\n",
    "# Separate into training and validation sets\n",
    "valid_titles = titles[:valid_size]\n",
    "valid_articles = articles[:valid_size]\n",
    "train_titles = titles[valid_size:]\n",
    "train_articles = articles[valid_size:]\n",
    "train_size = len(train_articles)\n",
    "del titles, articles\n",
    "\n",
    "print('Training set size: %d' % train_size)\n",
    "print('Valid set size: %d' % valid_size)"
   ]
  },
  {
   "cell_type": "code",
   "execution_count": null,
   "metadata": {},
   "outputs": [],
   "source": []
  }
 ],
 "metadata": {
  "kernelspec": {
   "display_name": "Python 3",
   "language": "python",
   "name": "python3"
  },
  "language_info": {
   "codemirror_mode": {
    "name": "ipython",
    "version": 3
   },
   "file_extension": ".py",
   "mimetype": "text/x-python",
   "name": "python",
   "nbconvert_exporter": "python",
   "pygments_lexer": "ipython3",
   "version": "3.5.2"
  }
 },
 "nbformat": 4,
 "nbformat_minor": 2
}
