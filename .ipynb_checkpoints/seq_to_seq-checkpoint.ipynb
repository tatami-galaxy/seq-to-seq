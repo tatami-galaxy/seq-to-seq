{
 "cells": [
  {
   "cell_type": "code",
   "execution_count": 1,
   "metadata": {},
   "outputs": [],
   "source": [
    "import numpy as np\n",
    "import pickle"
   ]
  },
  {
   "cell_type": "code",
   "execution_count": 2,
   "metadata": {},
   "outputs": [],
   "source": [
    "# 2 million word vectors trained on Common Crawl (600B tokens)\n",
    "embedding_file = open('processed_data/crawl-300d-2M.vec')"
   ]
  },
  {
   "cell_type": "code",
   "execution_count": 3,
   "metadata": {},
   "outputs": [],
   "source": [
    "# The first line of the file contains the number of words in the vocabulary and the size of the vectors. \n",
    "# Each line contains a word followed by its vectors, like in the default fastText text format. \n",
    "# Each value is space separated.\n",
    "# Words are ordered by descending frequency.\n",
    "meta = embedding_file.readline()\n",
    "num_words = int(meta.split()[0])\n",
    "num_dims = int(meta.split()[1])"
   ]
  },
  {
   "cell_type": "code",
   "execution_count": 4,
   "metadata": {},
   "outputs": [
    {
     "name": "stdout",
     "output_type": "stream",
     "text": [
      "Total words: 1999998\n",
      "Number of dimensions: 300\n"
     ]
    }
   ],
   "source": [
    "# Some 'words' are not picked up by split(). Hence.\n",
    "# dictionary -> word : index\n",
    "# reverse_dictionary -> index : word\n",
    "dictionary = dict()\n",
    "# To store embeddings for each word\n",
    "embeddings = np.zeros((num_words, num_dims))\n",
    "i = 0\n",
    "\n",
    "# zero padding token\n",
    "dictionary['PAD_token'] = len(dictionary)\n",
    "embeddings[i] = np.random.rand(num_dims)\n",
    "i += 1\n",
    "\n",
    "# start of sequence token\n",
    "dictionary['Start_of_Sequence'] = len(dictionary)\n",
    "embeddings[i] = np.random.rand(num_dims)\n",
    "i += 1\n",
    "\n",
    "# end of sequence token\n",
    "dictionary['End_of_Sequence'] = len(dictionary)\n",
    "embeddings[i] = np.random.rand(num_dims)\n",
    "i += 1\n",
    "\n",
    "# unkown word token\n",
    "dictionary['UNK_token'] = len(dictionary)\n",
    "embeddings[i] = np.random.rand(num_dims)\n",
    "i += 1\n",
    "\n",
    "# Skip words not separated by split()\n",
    "for line in embedding_file:\n",
    "    items = line.split()\n",
    "    if len(items) == (num_dims + 1):\n",
    "        dictionary[items[0]] = len(dictionary)\n",
    "        embeddings[i] = np.asarray([float(value) for value in items[1:]], dtype=np.float64)\n",
    "        i += 1\n",
    "reverse_dictionary = dict(zip(dictionary.values(), dictionary.keys()))\n",
    "max_vocab = len(dictionary)\n",
    "embeddings = embeddings[:max_vocab]\n",
    "embedding_file.close()\n",
    "\n",
    "print(\"Total words: %d\" % max_vocab)\n",
    "print(\"Number of dimensions: %d\" % num_dims)"
   ]
  },
  {
   "cell_type": "code",
   "execution_count": 16,
   "metadata": {},
   "outputs": [],
   "source": [
    "# Load preprocessed titles and articles\n",
    "titles = pickle.load(open('processed_data/titles', 'rb'))\n",
    "articles = pickle.load(open('processed_data/articles', 'rb'))"
   ]
  },
  {
   "cell_type": "code",
   "execution_count": 17,
   "metadata": {},
   "outputs": [],
   "source": [
    "# Number of tokens to extract from the beginning of each article\n",
    "article_size = 100\n",
    "# Validation set size\n",
    "valid_size = 1000\n",
    "\n",
    "# Convert each title and article to lists of words\n",
    "temp1 = [None] * len(articles)\n",
    "temp2 = [None] * len(articles)\n",
    "for i in range(len(articles)):\n",
    "    temp1[i] = titles[i].split()\n",
    "    temp2[i] = articles[i].split()[:article_size]\n",
    "titles = temp1\n",
    "articles = temp2\n",
    "del temp1, temp2\n",
    "# Separate into training and validation sets\n",
    "valid_titles = titles[:valid_size]\n",
    "valid_articles = articles[:valid_size]\n",
    "train_titles = titles[valid_size:]\n",
    "train_articles = articles[valid_size:]\n",
    "del titles, articles"
   ]
  },
  {
   "cell_type": "code",
   "execution_count": null,
   "metadata": {},
   "outputs": [],
   "source": []
  }
 ],
 "metadata": {
  "kernelspec": {
   "display_name": "Python 3",
   "language": "python",
   "name": "python3"
  },
  "language_info": {
   "codemirror_mode": {
    "name": "ipython",
    "version": 3
   },
   "file_extension": ".py",
   "mimetype": "text/x-python",
   "name": "python",
   "nbconvert_exporter": "python",
   "pygments_lexer": "ipython3",
   "version": "3.5.2"
  }
 },
 "nbformat": 4,
 "nbformat_minor": 2
}
